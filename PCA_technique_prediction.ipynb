{
 "cells": [
  {
   "cell_type": "markdown",
   "id": "e48c60b5-b217-453e-9294-56faca557f6a",
   "metadata": {},
   "source": [
    "# "
   ]
  },
  {
   "cell_type": "code",
   "execution_count": 26,
   "id": "a0666bf2-0617-41b5-b819-774b3968b5dd",
   "metadata": {},
   "outputs": [],
   "source": [
    "import pyreadr\n",
    "import numpy as np\n",
    "import pandas as pd\n",
    "import swifter\n",
    "import matplotlib.pyplot as plt\n",
    "import seaborn as sns\n",
    "\n",
    "\n",
    "import numpy as np\n",
    "import scipy.stats as stats\n",
    "from scipy.linalg import eigh\n",
    "import pickle\n",
    "from itertools import product"
   ]
  },
  {
   "cell_type": "code",
   "execution_count": 27,
   "id": "b28edf70-f53b-449e-a054-d1ae9f8081a3",
   "metadata": {},
   "outputs": [],
   "source": [
    "from fault_detection_algorithms.PCAFaultDetector import BaseFaultDetectionAlgorithm "
   ]
  },
  {
   "cell_type": "code",
   "execution_count": 29,
   "id": "c2d7a666-651f-4d4e-8082-e68cabf219ad",
   "metadata": {},
   "outputs": [],
   "source": [
    "# constants\n",
    "datasets_dir = \"datasets\"\n",
    "dataset_dir = f\"./{datasets_dir}/TEP/\"\n",
    "dataset_fast_dir = f\"./{datasets_dir}/TEP_fast/\"\n",
    "save_fast_dataset = True \n",
    "read_fast = True \n",
    "slow_fallback = True"
   ]
  },
  {
   "cell_type": "code",
   "execution_count": 30,
   "id": "33148bde-5e76-4953-bdaa-043831583fd6",
   "metadata": {},
   "outputs": [],
   "source": [
    "def read_r_as_df(file_path):\n",
    "    result = pyreadr.read_r(file_path) # also works for Rds\n",
    "    return result[list(result.keys())[0]]\n"
   ]
  },
  {
   "cell_type": "code",
   "execution_count": 31,
   "id": "b16890d1-c1b9-4116-8161-ae0da73c291b",
   "metadata": {},
   "outputs": [],
   "source": [
    "def read_test_dataset ():\n",
    "    fast_error = False\n",
    "    try:\n",
    "        if read_fast:\n",
    "            with open(f\"{dataset_fast_dir}/test_df.pickle\", 'rb') as f:\n",
    "                return pickle.load(f)\n",
    "    except:\n",
    "        fast_error = True\n",
    "    if slow_fallback or fast_error:\n",
    "        test_faulty_df = read_r_as_df(f\"{dataset_dir}/TEP_Faulty_Testing.RData\")\n",
    "        test_non_falty_df = read_r_as_df(f\"{dataset_dir}/TEP_FaultFree_Testing.RData\")\n",
    "        \n",
    "        test_df = pd.concat((test_faulty_df, test_non_falty_df))\n",
    "        del test_faulty_df\n",
    "        del test_non_falty_df\n",
    "        if save_fast_dataset:\n",
    "            with open(f\"{dataset_fast_dir}/test_df.pickle\", 'wb') as f:\n",
    "                pickle.dump(test_df, f)\n",
    "            \n",
    "        return test_df\n",
    "    return None\n",
    "        "
   ]
  },
  {
   "cell_type": "code",
   "execution_count": 32,
   "id": "946845b8-ebbb-4417-9d14-879aee22098b",
   "metadata": {},
   "outputs": [],
   "source": [
    "\n",
    "test_df = read_test_dataset()"
   ]
  },
  {
   "cell_type": "code",
   "execution_count": null,
   "id": "86c60600-bdd3-4926-91e0-e6de0719d0dc",
   "metadata": {},
   "outputs": [],
   "source": []
  },
  {
   "cell_type": "code",
   "execution_count": 9,
   "id": "1b6595d3-5976-4ee9-9fb5-664d28586e2b",
   "metadata": {},
   "outputs": [],
   "source": [
    "with open (\"pca_predictor_params.pickle\", \"rb\") as f:\n",
    "    pca_predictor_params = pickle.load(f)"
   ]
  },
  {
   "cell_type": "code",
   "execution_count": 10,
   "id": "d683446f-7cd8-4495-a626-9821f459595b",
   "metadata": {},
   "outputs": [],
   "source": [
    "def detect_fault(new_sample):\n",
    "    # Normalize the new sample\n",
    "    new_sample_norm = (new_sample - pca_predictor_params[\"mean\"]) /pca_predictor_params[\"std\"] \n",
    "\n",
    "    P_res = pca_predictor_params[\"P_res\"]\n",
    "    P_pc= pca_predictor_params[\"P_pc\"]\n",
    "    J_th_SPE = pca_predictor_params['J_th_SPE']\n",
    "    J_th_T2= pca_predictor_params['J_th_T2']\n",
    "    eigenvalues = pca_predictor_params['eigenvalues']\n",
    "    l = pca_predictor_params[\"l\"]\n",
    "    # Compute SPE\n",
    "    SPE = new_sample_norm @ P_res @ P_res.T @ new_sample_norm.T\n",
    "\n",
    "    # Compute T² statistic\n",
    "    T2 = new_sample_norm @ P_pc @ np.linalg.inv(np.diag(eigenvalues[:l])) @ P_pc.T @ new_sample_norm.T\n",
    "\n",
    "    # Fault Detection Logic\n",
    "    if SPE > J_th_SPE or T2 > J_th_T2:\n",
    "        return True \n",
    "    return False"
   ]
  },
  {
   "cell_type": "code",
   "execution_count": 11,
   "id": "c0b30b47-4ace-4cbc-bfd5-f130e4a50a06",
   "metadata": {},
   "outputs": [
    {
     "data": {
      "text/plain": [
       "False"
      ]
     },
     "execution_count": 11,
     "metadata": {},
     "output_type": "execute_result"
    }
   ],
   "source": [
    "#single prediction\n",
    "detect_fault(np.array(test_df.iloc[-100, 3:]))"
   ]
  },
  {
   "cell_type": "code",
   "execution_count": 12,
   "id": "e80b4bf8-85c6-4ef5-8a9d-6032187a6d8f",
   "metadata": {},
   "outputs": [],
   "source": [
    "# fig, ax = plt.subplots(13,4,figsize=(30,50))\n",
    "\n",
    "# cols_names = test_falty_df.columns[3:]\n",
    "# for j in range(1,5):\n",
    "#     df_train = test_falty_df[(test_falty_df.simulationRun==j)&(test_falty_df.faultNumber==1)].iloc[:,3:]\n",
    "#     for i in range(df_train.shape[1]):\n",
    "#         ax.ravel()[i].plot(range(0,960),df_train.iloc[:,i])\n",
    "#         #df_train.iloc[:,i].plot(ax=ax.ravel()[i]) \n",
    "#         ax.ravel()[i].set_title(cols_names[i])\n",
    "#     #print(j)"
   ]
  },
  {
   "cell_type": "code",
   "execution_count": 33,
   "id": "c071a18a-2e84-4193-bfbb-3472892e8f77",
   "metadata": {},
   "outputs": [],
   "source": [
    "x_test = test_df.values[:, 3:]"
   ]
  },
  {
   "cell_type": "code",
   "execution_count": 34,
   "id": "134ce219-1a26-4572-9574-773420fb4924",
   "metadata": {},
   "outputs": [],
   "source": [
    "def detect_fault_batch(samples, pca_predictor_params=pca_predictor_params, roc_plot=False):\n",
    "    \"\"\"\n",
    "    Detect faults for multiple machine states at once using PCA-based SPE and T^2.\n",
    "    \n",
    "    Parameters\n",
    "    ----------\n",
    "    samples : np.ndarray\n",
    "        Shape (m, n) or (n,) for single. (m = number of samples, n = number of features)\n",
    "    pca_predictor_params : dict\n",
    "        PCA model parameters, including:\n",
    "            - mean, std      : arrays of shape (n,) for normalization\n",
    "            - P_res, P_pc    : projection matrices for the residual and principal subspaces\n",
    "            - eigenvalues    : eigenvalues in descending order\n",
    "            - l              : number of principal components used\n",
    "            - J_th_SPE, J_th_T2 : thresholds for SPE and T² statistics\n",
    "\n",
    "    Returns\n",
    "    -------\n",
    "    np.ndarray\n",
    "        Boolean array of shape (m,) indicating True (fault) or False (normal) for each sample.\n",
    "    \"\"\"\n",
    "    \n",
    "    # Unpack parameters\n",
    "    mean       = pca_predictor_params[\"mean\"]\n",
    "    std        = pca_predictor_params[\"std\"]\n",
    "    P_res      = pca_predictor_params[\"P_res\"]\n",
    "    P_pc       = pca_predictor_params[\"P_pc\"]\n",
    "    l          = pca_predictor_params[\"l\"]\n",
    "    eigs       = pca_predictor_params[\"eigenvalues\"][:l]\n",
    "    J_th_SPE   = pca_predictor_params[\"J_th_SPE\"]\n",
    "    J_th_T2    = pca_predictor_params[\"J_th_T2\"]\n",
    "\n",
    "    # Ensure samples is 2D => shape (m, n)\n",
    "    samples = np.atleast_2d(samples)\n",
    "\n",
    "    # 1) Normalize: X_norm has shape (m, n)\n",
    "    X_norm = (samples - mean) / std\n",
    "\n",
    "    # 2) SPE = sum of squares in residual subspace\n",
    "    #    residual = X_norm * P_res => (m, n-l)\n",
    "    residual = X_norm @ P_res               # shape (m, n-l)\n",
    "    SPE_vals = np.sum(residual**2, axis=1)  # shape (m,)\n",
    "\n",
    "    # 3) T² statistic for each row\n",
    "    #    pc_scores = X_norm * P_pc => shape (m, l)\n",
    "    pc_scores = X_norm @ P_pc\n",
    "    # Instead of forming (m x m) matrix, do elementwise scaled sum of squares:\n",
    "    # T²_i = sum_j( pc_scores[i, j]^2 / eigs[j] )\n",
    "    T2_vals = np.sum((pc_scores**2) / eigs, axis=1)  # shape (m,)\n",
    "\n",
    "    # 4) Compare with thresholds (fault if SPE > J_th_SPE OR T² > J_th_T2)\n",
    "    faults = (SPE_vals > J_th_SPE) | (T2_vals > J_th_T2)\n",
    "    if roc_plot:\n",
    "        plt.hist(SPE_vals,bins=100)\n",
    "        plt.show()\n",
    "        plt.hist(T2_vals, bins=100)\n",
    "        plt.show()\n",
    "    return faults\n"
   ]
  },
  {
   "cell_type": "code",
   "execution_count": 35,
   "id": "d00c9b0a-6b1d-45b4-9601-b9dc772f29a1",
   "metadata": {},
   "outputs": [
    {
     "data": {
      "text/plain": [
       "29.672565740289073"
      ]
     },
     "execution_count": 35,
     "metadata": {},
     "output_type": "execute_result"
    }
   ],
   "source": [
    "pca_predictor_params[\"J_th_SPE\"]"
   ]
  },
  {
   "cell_type": "code",
   "execution_count": 36,
   "id": "c791f963-ba76-4b66-8262-83c5e0bbb5a4",
   "metadata": {},
   "outputs": [
    {
     "data": {
      "text/plain": [
       "52.19402469957485"
      ]
     },
     "execution_count": 36,
     "metadata": {},
     "output_type": "execute_result"
    }
   ],
   "source": [
    "pca_predictor_params[\"J_th_T2\"]"
   ]
  },
  {
   "cell_type": "code",
   "execution_count": 37,
   "id": "d774509c-6112-49ef-b16f-d7abac1a0d7d",
   "metadata": {},
   "outputs": [],
   "source": [
    "# Unpack parameters\n",
    "mean       = pca_predictor_params[\"mean\"]\n",
    "std        = pca_predictor_params[\"std\"]\n",
    "P_res      = pca_predictor_params[\"P_res\"]\n",
    "P_pc       = pca_predictor_params[\"P_pc\"]\n",
    "l          = pca_predictor_params[\"l\"]\n",
    "eigs       = pca_predictor_params[\"eigenvalues\"][:l]\n",
    "J_th_SPE   = pca_predictor_params[\"J_th_SPE\"]\n",
    "J_th_T2    = pca_predictor_params[\"J_th_T2\"]\n",
    "\n",
    "# Ensure samples is 2D => shape (m, n)\n",
    "# samples = np.atleast_2d(samples)\n",
    "\n",
    "# 1) Normalize: X_norm has shape (m, n)\n",
    "X_norm = (x_test - mean) / std\n",
    "\n",
    "# 2) SPE = sum of squares in residual subspace\n",
    "#    residual = X_norm * P_res => (m, n-l)\n",
    "residual = X_norm @ P_res               # shape (m, n-l)\n",
    "SPE_vals = np.sum(residual**2, axis=1)  # shape (m,)\n",
    "\n",
    "# 3) T² statistic for each row\n",
    "#    pc_scores = X_norm * P_pc => shape (m, l)\n",
    "pc_scores = X_norm @ P_pc\n",
    "# Instead of forming (m x m) matrix, do elementwise scaled sum of squares:\n",
    "# T²_i = sum_j( pc_scores[i, j]^2 / eigs[j] )\n",
    "T2_vals = np.sum((pc_scores**2) / eigs, axis=1)  # shape (m,)\n",
    "\n",
    "# 4) Compare with thresholds (fault if SPE > J_th_SPE OR T² > J_th_T2)\n",
    "faults = (SPE_vals > J_th_SPE) | (T2_vals > J_th_T2)\n"
   ]
  },
  {
   "cell_type": "code",
   "execution_count": 38,
   "id": "799016f7-f162-479e-a869-9c1d9e057e7c",
   "metadata": {},
   "outputs": [],
   "source": [
    "expected_fault = test_df[\"sample\"]>160\n",
    "expected_fault[test_df[\"faultNumber\"]==0] = False# non faulty test"
   ]
  },
  {
   "cell_type": "code",
   "execution_count": 19,
   "id": "56ade552-15ea-48ed-bc06-c91723bc5785",
   "metadata": {},
   "outputs": [],
   "source": [
    "def compute_error_metrics(predicted, expected):\n",
    "    TP = np.sum(predicted  &  expected)\n",
    "    FP = np.sum(predicted  & ~expected)\n",
    "    FN = np.sum(~predicted &  expected)\n",
    "    TN = np.sum(~predicted & ~expected)\n",
    "    error_metrics = dict()\n",
    "    error_metrics[\"fault_detection_rate\"] = TP/(TP+FN)\n",
    "    error_metrics[\"false_alarm_rate\"] = FP/(TN+FP)\n",
    "    error_metrics[\"false_detection_rate\"]= FP/(TP+FP)\n",
    "    #error_metrics[\"1-specificity\"]=1- TN/(TN+FP)\n",
    "    return error_metrics\n"
   ]
  },
  {
   "cell_type": "code",
   "execution_count": 20,
   "id": "0076185c-1f64-48ec-9062-35796a18d4bb",
   "metadata": {
    "scrolled": true
   },
   "outputs": [],
   "source": [
    "fault_selector = test_df[\"faultNumber\"]== 10\n",
    "exp_fault = expected_fault[fault_selector]\n",
    "SPE_vals_fault = SPE_vals[fault_selector]\n",
    "T2_vals_fault = T2_vals[fault_selector]\n",
    "\n",
    "metrics = {}\n",
    "for t_spe, t_t2 in product(range(0,100,1), range(0,120,1)):\n",
    "    pred_faults = (SPE_vals_fault > t_spe) | (T2_vals_fault > t_t2)\n",
    "    metrics[(t_spe,t_t2)] = compute_error_metrics(pred_faults,exp_fault)\n"
   ]
  },
  {
   "cell_type": "code",
   "execution_count": null,
   "id": "580047bb-c6d2-4aa3-8578-ca86a1fc14da",
   "metadata": {},
   "outputs": [],
   "source": []
  },
  {
   "cell_type": "code",
   "execution_count": 21,
   "id": "cd15facc-2bc4-414c-a6f2-308d811f7b21",
   "metadata": {
    "scrolled": true
   },
   "outputs": [],
   "source": [
    "fault_detection_rate = []\n",
    "false_alarm_rate= []\n",
    "for met in metrics.values():\n",
    "    fault_detection_rate.append(met[\"fault_detection_rate\"])\n",
    "    false_alarm_rate.append(met[\"false_alarm_rate\"])\n",
    "    "
   ]
  },
  {
   "cell_type": "code",
   "execution_count": 22,
   "id": "f5e7e8a5-fd30-47cc-a3fd-a12c3b33811a",
   "metadata": {},
   "outputs": [
    {
     "data": {
      "text/plain": [
       "<matplotlib.collections.PathCollection at 0x7ff3b40b45b0>"
      ]
     },
     "execution_count": 22,
     "metadata": {},
     "output_type": "execute_result"
    },
    {
     "data": {
      "image/png": "[encoded data removed]",
      "text/plain": [
       "<Figure size 640x480 with 1 Axes>"
      ]
     },
     "metadata": {},
     "output_type": "display_data"
    }
   ],
   "source": [
    "plt.scatter(false_alarm_rate, fault_detection_rate)"
   ]
  },
  {
   "cell_type": "code",
   "execution_count": 39,
   "id": "14e744ba-0b1b-4b7b-a2be-f3ebfebc2efe",
   "metadata": {},
   "outputs": [],
   "source": [
    "pred_fault = faults"
   ]
  },
  {
   "cell_type": "code",
   "execution_count": 40,
   "id": "dbc0a7b6-0fcc-4e1d-9f6f-b9cedb77bf5c",
   "metadata": {},
   "outputs": [
    {
     "data": {
      "text/plain": [
       "0.6798820436507936"
      ]
     },
     "execution_count": 40,
     "metadata": {},
     "output_type": "execute_result"
    }
   ],
   "source": [
    "np.sum(pred_fault == expected_fault)/len(pred_fault)\n",
    "# old 0.6798820436507936"
   ]
  },
  {
   "cell_type": "code",
   "execution_count": 42,
   "id": "894ae0c1-7af0-45b1-af45-54dfac9d0614",
   "metadata": {
    "scrolled": true
   },
   "outputs": [
    {
     "name": "stderr",
     "output_type": "stream",
     "text": [
      "/tmp/ipykernel_540195/1195533928.py:11: RuntimeWarning: invalid value encountered in scalar divide\n",
      "  fault_detection_rate = TP/(TP+FN)\n"
     ]
    },
    {
     "name": "stdout",
     "output_type": "stream",
     "text": [
      "Fault: 0\n",
      "Data:  480000\n",
      "TDR(fault detection rate) nan\n",
      "FDR(false detection rate) 1.0\n",
      "FAR(false alarm rate) 0.010441666666666667\n",
      "\n",
      "Fault: 1\n",
      "Data:  480000\n",
      "TDR(fault detection rate) 0.994925\n",
      "FDR(false detection rate) 0.0012723444514990828\n",
      "FAR(false alarm rate) 0.0063375\n",
      "\n",
      "Fault: 2\n",
      "Data:  480000\n",
      "TDR(fault detection rate) 0.986905\n",
      "FDR(false detection rate) 0.0012826707887539878\n",
      "FAR(false alarm rate) 0.0063375\n",
      "\n",
      "Fault: 3\n",
      "Data:  480000\n",
      "TDR(fault detection rate) 0.01129\n",
      "FDR(false detection rate) 0.10093569579932311\n",
      "FAR(false alarm rate) 0.0063375\n",
      "\n",
      "Fault: 4\n",
      "Data:  480000\n",
      "TDR(fault detection rate) 0.720645\n",
      "FDR(false detection rate) 0.0017557529478988104\n",
      "FAR(false alarm rate) 0.0063375\n",
      "\n",
      "Fault: 5\n",
      "Data:  480000\n",
      "TDR(fault detection rate) 0.237\n",
      "FDR(false detection rate) 0.005319651232333407\n",
      "FAR(false alarm rate) 0.0063375\n",
      "\n",
      "Fault: 6\n",
      "Data:  480000\n",
      "TDR(fault detection rate) 1.0\n",
      "FDR(false detection rate) 0.0012658954774822913\n",
      "FAR(false alarm rate) 0.0063375\n",
      "\n",
      "Fault: 7\n",
      "Data:  480000\n",
      "TDR(fault detection rate) 1.0\n",
      "FDR(false detection rate) 0.0012658954774822913\n",
      "FAR(false alarm rate) 0.0063375\n",
      "\n",
      "Fault: 8\n",
      "Data:  480000\n",
      "TDR(fault detection rate) 0.9704525\n",
      "FDR(false detection rate) 0.001304388095336105\n",
      "FAR(false alarm rate) 0.0063375\n",
      "\n",
      "Fault: 9\n",
      "Data:  480000\n",
      "TDR(fault detection rate) 0.0116025\n",
      "FDR(false detection rate) 0.09848484848484848\n",
      "FAR(false alarm rate) 0.0063375\n",
      "\n",
      "Fault: 10\n",
      "Data:  480000\n",
      "TDR(fault detection rate) 0.18862\n",
      "FDR(false detection rate) 0.006675004937133829\n",
      "FAR(false alarm rate) 0.0063375\n",
      "\n",
      "Fault: 11\n",
      "Data:  480000\n",
      "TDR(fault detection rate) 0.6067725\n",
      "FDR(false detection rate) 0.002084566804815473\n",
      "FAR(false alarm rate) 0.0063375\n",
      "\n",
      "Fault: 12\n",
      "Data:  480000\n",
      "TDR(fault detection rate) 0.9811325\n",
      "FDR(false detection rate) 0.001290207654723127\n",
      "FAR(false alarm rate) 0.0063375\n",
      "\n",
      "Fault: 13\n",
      "Data:  480000\n",
      "TDR(fault detection rate) 0.9406975\n",
      "FDR(false detection rate) 0.0013455913967079457\n",
      "FAR(false alarm rate) 0.0063375\n",
      "\n",
      "Fault: 14\n",
      "Data:  480000\n",
      "TDR(fault detection rate) 0.9992275\n",
      "FDR(false detection rate) 0.001266872897915532\n",
      "FAR(false alarm rate) 0.0063375\n",
      "\n",
      "Fault: 15\n",
      "Data:  480000\n",
      "TDR(fault detection rate) 0.0132175\n",
      "FDR(false detection rate) 0.08750431480842251\n",
      "FAR(false alarm rate) 0.0063375\n",
      "\n",
      "Fault: 16\n",
      "Data:  480000\n",
      "TDR(fault detection rate) 0.0652125\n",
      "FDR(false detection rate) 0.019065884476534296\n",
      "FAR(false alarm rate) 0.0063375\n",
      "\n",
      "Fault: 17\n",
      "Data:  480000\n",
      "TDR(fault detection rate) 0.8324775\n",
      "FDR(false detection rate) 0.0015202489969954843\n",
      "FAR(false alarm rate) 0.0063375\n",
      "\n",
      "Fault: 18\n",
      "Data:  480000\n",
      "TDR(fault detection rate) 0.9306175\n",
      "FDR(false detection rate) 0.0013601463699920054\n",
      "FAR(false alarm rate) 0.0063375\n",
      "\n",
      "Fault: 19\n",
      "Data:  480000\n",
      "TDR(fault detection rate) 0.1074925\n",
      "FDR(false detection rate) 0.011654100772342774\n",
      "FAR(false alarm rate) 0.0063375\n",
      "\n",
      "Fault: 20\n",
      "Data:  480000\n",
      "TDR(fault detection rate) 0.37262\n",
      "FDR(false detection rate) 0.003390057169603156\n",
      "FAR(false alarm rate) 0.0063375\n",
      "\n"
     ]
    }
   ],
   "source": [
    "\n",
    "fault_nums = test_df[\"faultNumber\"]\n",
    "for fault_num in np.unique(fault_nums):\n",
    "    fault_selector = fault_nums==fault_num\n",
    "    predicted= pred_fault[fault_selector]\n",
    "    expected= expected_fault[fault_selector]\n",
    "    TP = np.sum(predicted  &  expected)\n",
    "    FP = np.sum(predicted  & ~expected)\n",
    "    FN = np.sum(~predicted &  expected)\n",
    "    TN = np.sum(~predicted & ~expected)\n",
    "\n",
    "    fault_detection_rate = TP/(TP+FN)\n",
    "    false_alarm_rate = FP/(TN+FP)\n",
    "    false_detection_rate= FP/(TP+FP)\n",
    "    print(f\"Fault: {fault_num}\")\n",
    "    print(\"Data: \",np.sum(fault_selector))\n",
    "    print(f\"TDR(fault detection rate) {fault_detection_rate}\" )\n",
    "    print(f\"FDR(false detection rate) {false_detection_rate}\" )\n",
    "    print(f\"FAR(false alarm rate) {false_alarm_rate}\" )\n",
    "    print()"
   ]
  },
  {
   "cell_type": "code",
   "execution_count": null,
   "id": "6268aaec-6455-4bc4-ae83-f8bba77bc2b5",
   "metadata": {},
   "outputs": [],
   "source": []
  }
 ],
 "metadata": {
  "kernelspec": {
   "display_name": "Python 3 (ipykernel)",
   "language": "python",
   "name": "python3"
  },
  "language_info": {
   "codemirror_mode": {
    "name": "ipython",
    "version": 3
   },
   "file_extension": ".py",
   "mimetype": "text/x-python",
   "name": "python",
   "nbconvert_exporter": "python",
   "pygments_lexer": "ipython3",
   "version": "3.10.12"
  }
 },
 "nbformat": 4,
 "nbformat_minor": 5
}
