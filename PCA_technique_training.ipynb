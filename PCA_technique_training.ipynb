{
 "cells": [
  {
   "cell_type": "code",
   "execution_count": 1,
   "id": "e1152bff-ec26-4016-88ef-5b6813931a4d",
   "metadata": {},
   "outputs": [
    {
     "name": "stdout",
     "output_type": "stream",
     "text": [
      "3.10.12\n"
     ]
    }
   ],
   "source": [
    "from platform import python_version\n",
    "\n",
    "print(python_version())"
   ]
  },
  {
   "cell_type": "code",
   "execution_count": 17,
   "id": "2b1cd5f4-182e-4645-8b87-881bc9911097",
   "metadata": {},
   "outputs": [],
   "source": [
    "import pyreadr\n",
    "import numpy as np\n",
    "import pandas as pd\n",
    "import matplotlib.pyplot as plt\n",
    "import seaborn as sns\n",
    "\n",
    "\n",
    "import numpy as np\n",
    "import scipy.stats as stats\n",
    "from sklearn.decomposition import PCA\n",
    "from scipy.linalg import eigh\n",
    "from sklearn.preprocessing import StandardScaler\n",
    "\n",
    "from fault_detection_algorithms.PCAFaultDetector import PCAFaultDetector\n",
    "\n",
    "from fast_dataset_open import open_with_cache"
   ]
  },
  {
   "cell_type": "code",
   "execution_count": 47,
   "id": "26150ef5-8944-44c4-b08a-ddb6a407d513",
   "metadata": {},
   "outputs": [],
   "source": [
    "\n",
    "import importlib\n",
    "import fault_detection_algorithms.PCAFaultDetector\n",
    "import fault_detection_algorithms.fault_detector\n",
    "\n",
    "importlib.reload(fault_detection_algorithms.PCAFaultDetector)\n",
    "importlib.reload(fault_detection_algorithms.fault_detector)\n",
    "\n",
    "from fault_detection_algorithms.PCAFaultDetector import PCAFaultDetector\n",
    "from fault_detection_algorithms.fault_detector import BaseFaultDetectionAlgorithm"
   ]
  },
  {
   "cell_type": "code",
   "execution_count": 7,
   "id": "2e668489-7601-43b6-a13b-65304c1e034e",
   "metadata": {},
   "outputs": [],
   "source": [
    "# constants\n",
    "dataset_dir = \"./datasets/TEP/\""
   ]
  },
  {
   "cell_type": "code",
   "execution_count": 8,
   "id": "c3158c36-823a-4a05-a177-d587c85c8034",
   "metadata": {},
   "outputs": [
    {
     "name": "stdout",
     "output_type": "stream",
     "text": [
      "Loading from cache: cache_data/40501dd3f9438f820d63e297020b0214.pkl\n"
     ]
    }
   ],
   "source": [
    "training_fault_free_df = open_with_cache(f\"{dataset_dir}/TEP_FaultFree_Training.RData\")"
   ]
  },
  {
   "cell_type": "code",
   "execution_count": 9,
   "id": "ba859ccb-0748-4752-a0ca-d8eb4d9eb5fe",
   "metadata": {},
   "outputs": [],
   "source": [
    "X= training_fault_free_df.values[:,3:]"
   ]
  },
  {
   "cell_type": "code",
   "execution_count": 48,
   "id": "3f53656d-eb45-4edc-b03b-f02742b259bf",
   "metadata": {},
   "outputs": [],
   "source": [
    "fault_detector = PCAFaultDetector()"
   ]
  },
  {
   "cell_type": "code",
   "execution_count": 49,
   "id": "1a84fa45-e318-4a7e-96b7-9ae6623ef9f9",
   "metadata": {},
   "outputs": [],
   "source": [
    "fault_detector.train(X)"
   ]
  },
  {
   "cell_type": "code",
   "execution_count": 50,
   "id": "40ec2269-dd65-4127-85cd-8b98b92dc1ea",
   "metadata": {},
   "outputs": [],
   "source": [
    "fault_detector.save(\"models/pca_fault_detector.pickle\")"
   ]
  },
  {
   "cell_type": "code",
   "execution_count": null,
   "id": "e9c9eb99-cbc2-45c6-86ba-b8ed7839f174",
   "metadata": {},
   "outputs": [],
   "source": []
  },
  {
   "cell_type": "code",
   "execution_count": null,
   "id": "df96c0ad-f226-4b9f-bd05-c8f647ceaf87",
   "metadata": {},
   "outputs": [],
   "source": []
  }
 ],
 "metadata": {
  "kernelspec": {
   "display_name": "Python 3 (ipykernel)",
   "language": "python",
   "name": "python3"
  },
  "language_info": {
   "codemirror_mode": {
    "name": "ipython",
    "version": 3
   },
   "file_extension": ".py",
   "mimetype": "text/x-python",
   "name": "python",
   "nbconvert_exporter": "python",
   "pygments_lexer": "ipython3",
   "version": "3.10.12"
  }
 },
 "nbformat": 4,
 "nbformat_minor": 5
}
