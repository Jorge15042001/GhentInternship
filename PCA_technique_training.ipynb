{
 "cells": [
  {
   "cell_type": "code",
   "execution_count": 1,
   "id": "e1152bff-ec26-4016-88ef-5b6813931a4d",
   "metadata": {},
   "outputs": [
    {
     "name": "stdout",
     "output_type": "stream",
     "text": [
      "3.10.12\n"
     ]
    }
   ],
   "source": [
    "from platform import python_version\n",
    "\n",
    "print(python_version())"
   ]
  },
  {
   "cell_type": "code",
   "execution_count": 2,
   "id": "2b1cd5f4-182e-4645-8b87-881bc9911097",
   "metadata": {},
   "outputs": [],
   "source": [
    "import pyreadr\n",
    "import numpy as np\n",
    "import pandas as pd\n",
    "import matplotlib.pyplot as plt\n",
    "import seaborn as sns\n",
    "\n",
    "\n",
    "import numpy as np\n",
    "import scipy.stats as stats\n",
    "from scipy.linalg import eigh"
   ]
  },
  {
   "cell_type": "code",
   "execution_count": 3,
   "id": "2e668489-7601-43b6-a13b-65304c1e034e",
   "metadata": {},
   "outputs": [],
   "source": [
    "# constants\n",
    "dataset_dir = \"./datasets/TEP/\""
   ]
  },
  {
   "cell_type": "code",
   "execution_count": 4,
   "id": "a295772e-4ea0-4fd0-a891-1665e166243a",
   "metadata": {},
   "outputs": [],
   "source": [
    "def read_r_as_df(file_path):\n",
    "    result = pyreadr.read_r(file_path) # also works for Rds\n",
    "    return result[list(result.keys())[0]]"
   ]
  },
  {
   "cell_type": "code",
   "execution_count": 5,
   "id": "c3158c36-823a-4a05-a177-d587c85c8034",
   "metadata": {},
   "outputs": [],
   "source": [
    "training_fault_free_df = read_r_as_df(f\"{dataset_dir}/TEP_FaultFree_Training.RData\")"
   ]
  },
  {
   "cell_type": "code",
   "execution_count": null,
   "id": "ba859ccb-0748-4752-a0ca-d8eb4d9eb5fe",
   "metadata": {},
   "outputs": [],
   "source": []
  },
  {
   "cell_type": "code",
   "execution_count": 6,
   "id": "1d946cad-f26f-4829-b9f5-248a6a3abc02",
   "metadata": {},
   "outputs": [
    {
     "data": {
      "text/html": [
       "<div>\n",
       "<style scoped>\n",
       "    .dataframe tbody tr th:only-of-type {\n",
       "        vertical-align: middle;\n",
       "    }\n",
       "\n",
       "    .dataframe tbody tr th {\n",
       "        vertical-align: top;\n",
       "    }\n",
       "\n",
       "    .dataframe thead th {\n",
       "        text-align: right;\n",
       "    }\n",
       "</style>\n",
       "<table border=\"1\" class=\"dataframe\">\n",
       "  <thead>\n",
       "    <tr style=\"text-align: right;\">\n",
       "      <th></th>\n",
       "      <th>faultNumber</th>\n",
       "      <th>simulationRun</th>\n",
       "      <th>sample</th>\n",
       "      <th>xmeas_1</th>\n",
       "      <th>xmeas_2</th>\n",
       "      <th>xmeas_3</th>\n",
       "      <th>xmeas_4</th>\n",
       "      <th>xmeas_5</th>\n",
       "      <th>xmeas_6</th>\n",
       "      <th>xmeas_7</th>\n",
       "      <th>...</th>\n",
       "      <th>xmv_2</th>\n",
       "      <th>xmv_3</th>\n",
       "      <th>xmv_4</th>\n",
       "      <th>xmv_5</th>\n",
       "      <th>xmv_6</th>\n",
       "      <th>xmv_7</th>\n",
       "      <th>xmv_8</th>\n",
       "      <th>xmv_9</th>\n",
       "      <th>xmv_10</th>\n",
       "      <th>xmv_11</th>\n",
       "    </tr>\n",
       "  </thead>\n",
       "  <tbody>\n",
       "    <tr>\n",
       "      <th>count</th>\n",
       "      <td>250000.0</td>\n",
       "      <td>250000.000000</td>\n",
       "      <td>250000.000000</td>\n",
       "      <td>250000.000000</td>\n",
       "      <td>250000.000000</td>\n",
       "      <td>250000.00000</td>\n",
       "      <td>250000.000000</td>\n",
       "      <td>250000.000000</td>\n",
       "      <td>250000.000000</td>\n",
       "      <td>250000.000000</td>\n",
       "      <td>...</td>\n",
       "      <td>250000.000000</td>\n",
       "      <td>250000.000000</td>\n",
       "      <td>250000.000000</td>\n",
       "      <td>250000.000000</td>\n",
       "      <td>250000.000000</td>\n",
       "      <td>250000.000000</td>\n",
       "      <td>250000.000000</td>\n",
       "      <td>250000.000000</td>\n",
       "      <td>250000.000000</td>\n",
       "      <td>250000.000000</td>\n",
       "    </tr>\n",
       "    <tr>\n",
       "      <th>mean</th>\n",
       "      <td>0.0</td>\n",
       "      <td>250.500000</td>\n",
       "      <td>250.500000</td>\n",
       "      <td>0.250482</td>\n",
       "      <td>3663.785706</td>\n",
       "      <td>4508.81979</td>\n",
       "      <td>9.347101</td>\n",
       "      <td>26.902196</td>\n",
       "      <td>42.337598</td>\n",
       "      <td>2705.037865</td>\n",
       "      <td>...</td>\n",
       "      <td>53.973668</td>\n",
       "      <td>24.639472</td>\n",
       "      <td>61.298501</td>\n",
       "      <td>22.216644</td>\n",
       "      <td>40.055456</td>\n",
       "      <td>38.098898</td>\n",
       "      <td>46.534295</td>\n",
       "      <td>47.958591</td>\n",
       "      <td>41.104304</td>\n",
       "      <td>18.118706</td>\n",
       "    </tr>\n",
       "    <tr>\n",
       "      <th>std</th>\n",
       "      <td>0.0</td>\n",
       "      <td>144.337567</td>\n",
       "      <td>144.337567</td>\n",
       "      <td>0.030873</td>\n",
       "      <td>34.006357</td>\n",
       "      <td>39.21542</td>\n",
       "      <td>0.085721</td>\n",
       "      <td>0.211485</td>\n",
       "      <td>0.218513</td>\n",
       "      <td>7.525596</td>\n",
       "      <td>...</td>\n",
       "      <td>0.469663</td>\n",
       "      <td>3.037743</td>\n",
       "      <td>1.243805</td>\n",
       "      <td>0.530156</td>\n",
       "      <td>1.526751</td>\n",
       "      <td>2.965266</td>\n",
       "      <td>2.351304</td>\n",
       "      <td>2.716520</td>\n",
       "      <td>0.540817</td>\n",
       "      <td>1.463678</td>\n",
       "    </tr>\n",
       "    <tr>\n",
       "      <th>min</th>\n",
       "      <td>0.0</td>\n",
       "      <td>1.000000</td>\n",
       "      <td>1.000000</td>\n",
       "      <td>0.122450</td>\n",
       "      <td>3511.800000</td>\n",
       "      <td>4336.90000</td>\n",
       "      <td>8.972700</td>\n",
       "      <td>25.951000</td>\n",
       "      <td>41.394000</td>\n",
       "      <td>2672.300000</td>\n",
       "      <td>...</td>\n",
       "      <td>52.095000</td>\n",
       "      <td>11.977000</td>\n",
       "      <td>55.961000</td>\n",
       "      <td>19.749000</td>\n",
       "      <td>33.389000</td>\n",
       "      <td>25.959000</td>\n",
       "      <td>36.937000</td>\n",
       "      <td>36.641000</td>\n",
       "      <td>38.586000</td>\n",
       "      <td>11.705000</td>\n",
       "    </tr>\n",
       "    <tr>\n",
       "      <th>25%</th>\n",
       "      <td>0.0</td>\n",
       "      <td>125.750000</td>\n",
       "      <td>125.750000</td>\n",
       "      <td>0.229770</td>\n",
       "      <td>3640.800000</td>\n",
       "      <td>4482.40000</td>\n",
       "      <td>9.289300</td>\n",
       "      <td>26.758000</td>\n",
       "      <td>42.188000</td>\n",
       "      <td>2700.100000</td>\n",
       "      <td>...</td>\n",
       "      <td>53.657000</td>\n",
       "      <td>22.602000</td>\n",
       "      <td>60.453000</td>\n",
       "      <td>21.864000</td>\n",
       "      <td>39.021000</td>\n",
       "      <td>36.081000</td>\n",
       "      <td>44.931000</td>\n",
       "      <td>46.265000</td>\n",
       "      <td>40.740000</td>\n",
       "      <td>17.130000</td>\n",
       "    </tr>\n",
       "    <tr>\n",
       "      <th>50%</th>\n",
       "      <td>0.0</td>\n",
       "      <td>250.500000</td>\n",
       "      <td>250.500000</td>\n",
       "      <td>0.250510</td>\n",
       "      <td>3663.700000</td>\n",
       "      <td>4508.80000</td>\n",
       "      <td>9.347100</td>\n",
       "      <td>26.902000</td>\n",
       "      <td>42.338000</td>\n",
       "      <td>2705.000000</td>\n",
       "      <td>...</td>\n",
       "      <td>53.974000</td>\n",
       "      <td>24.644000</td>\n",
       "      <td>61.298000</td>\n",
       "      <td>22.217000</td>\n",
       "      <td>40.058000</td>\n",
       "      <td>38.091000</td>\n",
       "      <td>46.530000</td>\n",
       "      <td>47.820000</td>\n",
       "      <td>41.104000</td>\n",
       "      <td>18.119000</td>\n",
       "    </tr>\n",
       "    <tr>\n",
       "      <th>75%</th>\n",
       "      <td>0.0</td>\n",
       "      <td>375.250000</td>\n",
       "      <td>375.250000</td>\n",
       "      <td>0.271200</td>\n",
       "      <td>3686.800000</td>\n",
       "      <td>4535.30000</td>\n",
       "      <td>9.405100</td>\n",
       "      <td>27.046000</td>\n",
       "      <td>42.487000</td>\n",
       "      <td>2710.000000</td>\n",
       "      <td>...</td>\n",
       "      <td>54.290000</td>\n",
       "      <td>26.674000</td>\n",
       "      <td>62.144000</td>\n",
       "      <td>22.568000</td>\n",
       "      <td>41.084000</td>\n",
       "      <td>40.117000</td>\n",
       "      <td>48.140000</td>\n",
       "      <td>49.651000</td>\n",
       "      <td>41.470000</td>\n",
       "      <td>19.111000</td>\n",
       "    </tr>\n",
       "    <tr>\n",
       "      <th>max</th>\n",
       "      <td>0.0</td>\n",
       "      <td>500.000000</td>\n",
       "      <td>500.000000</td>\n",
       "      <td>0.391740</td>\n",
       "      <td>3808.400000</td>\n",
       "      <td>4683.70000</td>\n",
       "      <td>9.729800</td>\n",
       "      <td>27.818000</td>\n",
       "      <td>43.257000</td>\n",
       "      <td>2739.100000</td>\n",
       "      <td>...</td>\n",
       "      <td>56.118000</td>\n",
       "      <td>38.351000</td>\n",
       "      <td>66.443000</td>\n",
       "      <td>24.525000</td>\n",
       "      <td>47.498000</td>\n",
       "      <td>50.729000</td>\n",
       "      <td>56.443000</td>\n",
       "      <td>59.616000</td>\n",
       "      <td>43.930000</td>\n",
       "      <td>24.762000</td>\n",
       "    </tr>\n",
       "  </tbody>\n",
       "</table>\n",
       "<p>8 rows × 55 columns</p>\n",
       "</div>"
      ],
      "text/plain": [
       "       faultNumber  simulationRun         sample        xmeas_1  \\\n",
       "count     250000.0  250000.000000  250000.000000  250000.000000   \n",
       "mean           0.0     250.500000     250.500000       0.250482   \n",
       "std            0.0     144.337567     144.337567       0.030873   \n",
       "min            0.0       1.000000       1.000000       0.122450   \n",
       "25%            0.0     125.750000     125.750000       0.229770   \n",
       "50%            0.0     250.500000     250.500000       0.250510   \n",
       "75%            0.0     375.250000     375.250000       0.271200   \n",
       "max            0.0     500.000000     500.000000       0.391740   \n",
       "\n",
       "             xmeas_2       xmeas_3        xmeas_4        xmeas_5  \\\n",
       "count  250000.000000  250000.00000  250000.000000  250000.000000   \n",
       "mean     3663.785706    4508.81979       9.347101      26.902196   \n",
       "std        34.006357      39.21542       0.085721       0.211485   \n",
       "min      3511.800000    4336.90000       8.972700      25.951000   \n",
       "25%      3640.800000    4482.40000       9.289300      26.758000   \n",
       "50%      3663.700000    4508.80000       9.347100      26.902000   \n",
       "75%      3686.800000    4535.30000       9.405100      27.046000   \n",
       "max      3808.400000    4683.70000       9.729800      27.818000   \n",
       "\n",
       "             xmeas_6        xmeas_7  ...          xmv_2          xmv_3  \\\n",
       "count  250000.000000  250000.000000  ...  250000.000000  250000.000000   \n",
       "mean       42.337598    2705.037865  ...      53.973668      24.639472   \n",
       "std         0.218513       7.525596  ...       0.469663       3.037743   \n",
       "min        41.394000    2672.300000  ...      52.095000      11.977000   \n",
       "25%        42.188000    2700.100000  ...      53.657000      22.602000   \n",
       "50%        42.338000    2705.000000  ...      53.974000      24.644000   \n",
       "75%        42.487000    2710.000000  ...      54.290000      26.674000   \n",
       "max        43.257000    2739.100000  ...      56.118000      38.351000   \n",
       "\n",
       "               xmv_4          xmv_5          xmv_6          xmv_7  \\\n",
       "count  250000.000000  250000.000000  250000.000000  250000.000000   \n",
       "mean       61.298501      22.216644      40.055456      38.098898   \n",
       "std         1.243805       0.530156       1.526751       2.965266   \n",
       "min        55.961000      19.749000      33.389000      25.959000   \n",
       "25%        60.453000      21.864000      39.021000      36.081000   \n",
       "50%        61.298000      22.217000      40.058000      38.091000   \n",
       "75%        62.144000      22.568000      41.084000      40.117000   \n",
       "max        66.443000      24.525000      47.498000      50.729000   \n",
       "\n",
       "               xmv_8          xmv_9         xmv_10         xmv_11  \n",
       "count  250000.000000  250000.000000  250000.000000  250000.000000  \n",
       "mean       46.534295      47.958591      41.104304      18.118706  \n",
       "std         2.351304       2.716520       0.540817       1.463678  \n",
       "min        36.937000      36.641000      38.586000      11.705000  \n",
       "25%        44.931000      46.265000      40.740000      17.130000  \n",
       "50%        46.530000      47.820000      41.104000      18.119000  \n",
       "75%        48.140000      49.651000      41.470000      19.111000  \n",
       "max        56.443000      59.616000      43.930000      24.762000  \n",
       "\n",
       "[8 rows x 55 columns]"
      ]
     },
     "execution_count": 6,
     "metadata": {},
     "output_type": "execute_result"
    }
   ],
   "source": [
    "training_fault_free_df.describe()"
   ]
  },
  {
   "cell_type": "code",
   "execution_count": 7,
   "id": "a90340dc-477a-4e6f-8286-bc2c22d50e5f",
   "metadata": {
    "scrolled": true
   },
   "outputs": [],
   "source": [
    "\n",
    "# fig, ax = plt.subplots(13,4,figsize=(30,50))\n",
    "# \n",
    "# cols_names = training_fault_free_df.columns[3:]\n",
    "# for j in range(1,5):\n",
    "    # df_train = training_fault_free_df[training_fault_free_df.simulationRun==j].iloc[:,3:]\n",
    "    # for i in range(df_train.shape[1]):\n",
    "        # ax.ravel()[i].plot(range(0,500),df_train.iloc[:,i])\n",
    "        # #df_train.iloc[:,i].plot(ax=ax.ravel()[i]) \n",
    "        # ax.ravel()[i].set_title(cols_names[i])\n",
    "    # #print(j)"
   ]
  },
  {
   "cell_type": "code",
   "execution_count": 8,
   "id": "e3e95696-4b55-4a92-9fdb-a3062ef1f9e7",
   "metadata": {},
   "outputs": [],
   "source": [
    "# PCA training\n"
   ]
  },
  {
   "cell_type": "code",
   "execution_count": 9,
   "id": "6c592915-2bd4-4496-be17-53695208b8ea",
   "metadata": {},
   "outputs": [],
   "source": [
    "X= training_fault_free_df.values[:,3:]\n",
    "N,m = X.shape\n"
   ]
  },
  {
   "cell_type": "code",
   "execution_count": 10,
   "id": "4a2983f0-ff4e-4ddf-a8b6-43f485fb3ba6",
   "metadata": {},
   "outputs": [],
   "source": [
    "# normalize the data\n",
    "X_mean = np.mean(X, axis=0)\n",
    "X_std = np.std(X, axis=0)\n",
    "X_normalized = (X - X_mean) / X_std"
   ]
  },
  {
   "cell_type": "code",
   "execution_count": 11,
   "id": "bce9a943-69a0-4bfb-927c-e70a35573bbe",
   "metadata": {},
   "outputs": [],
   "source": [
    "# compute eigen values and eigen vectors\n",
    "cov_matrix = np.cov(X_normalized, rowvar=False)\n",
    "eigenvalues, eigenvectors = eigh(cov_matrix)  # Compute eigen decomposition\n",
    "idx = np.argsort(eigenvalues)[::-1]  # Sort eigenvalues in descending order\n",
    "eigenvalues, eigenvectors = eigenvalues[idx], eigenvectors[:, idx]"
   ]
  },
  {
   "cell_type": "code",
   "execution_count": 12,
   "id": "8c13ba0b-ad6e-407f-9f96-f12cd8bcfb40",
   "metadata": {},
   "outputs": [
    {
     "data": {
      "text/plain": [
       "(52, 52)"
      ]
     },
     "execution_count": 12,
     "metadata": {},
     "output_type": "execute_result"
    }
   ],
   "source": [
    "cov_matrix.shape"
   ]
  },
  {
   "cell_type": "code",
   "execution_count": 13,
   "id": "d6c262b2-7719-419e-bad6-d753d5ccc896",
   "metadata": {},
   "outputs": [],
   "source": [
    "result = np.linalg.svd(cov_matrix, full_matrices=False)"
   ]
  },
  {
   "cell_type": "code",
   "execution_count": 14,
   "id": "e077eb38-e389-4c4f-8ecd-ded26df0efd7",
   "metadata": {},
   "outputs": [
    {
     "data": {
      "text/plain": [
       "array([[-1.50339762e-01, -1.21564678e-01,  2.13170620e-01, ...,\n",
       "         2.04323879e-03,  7.72495792e-07,  4.61603542e-07],\n",
       "       [ 3.54975130e-02,  4.89450389e-02,  3.67322506e-01, ...,\n",
       "         1.73696373e-04,  1.41499291e-06, -3.36849367e-08],\n",
       "       [ 1.48533719e-01, -3.32722443e-02, -3.73502743e-02, ...,\n",
       "         6.91950213e-04, -1.57628452e-08,  6.05638042e-07],\n",
       "       ...,\n",
       "       [-9.45763048e-02,  3.80930088e-01, -4.05282516e-02, ...,\n",
       "         3.67938927e-02,  4.92749173e-06,  3.46641227e-06],\n",
       "       [ 6.05050890e-02,  1.18612926e-01,  4.23933504e-01, ...,\n",
       "        -9.76384060e-04, -2.03859385e-07,  5.00322738e-07],\n",
       "       [ 5.97735359e-03, -1.78076055e-02,  3.52519423e-02, ...,\n",
       "        -7.05156307e-01,  3.23603484e-06,  3.02249881e-05]])"
      ]
     },
     "execution_count": 14,
     "metadata": {},
     "output_type": "execute_result"
    }
   ],
   "source": [
    "result.U"
   ]
  },
  {
   "cell_type": "code",
   "execution_count": 15,
   "id": "478f4849-6117-476d-abbe-a73d2ed7e5e0",
   "metadata": {},
   "outputs": [
    {
     "data": {
      "text/plain": [
       "array([[-1.50339762e-01, -1.21564678e-01,  2.13170620e-01, ...,\n",
       "         2.04323879e-03,  7.72495792e-07,  4.61603542e-07],\n",
       "       [ 3.54975130e-02,  4.89450389e-02,  3.67322506e-01, ...,\n",
       "         1.73696373e-04,  1.41499291e-06, -3.36849367e-08],\n",
       "       [ 1.48533719e-01, -3.32722443e-02, -3.73502743e-02, ...,\n",
       "         6.91950213e-04, -1.57628452e-08,  6.05638042e-07],\n",
       "       ...,\n",
       "       [-9.45763048e-02,  3.80930088e-01, -4.05282516e-02, ...,\n",
       "         3.67938927e-02,  4.92749173e-06,  3.46641227e-06],\n",
       "       [ 6.05050890e-02,  1.18612926e-01,  4.23933504e-01, ...,\n",
       "        -9.76384060e-04, -2.03859385e-07,  5.00322738e-07],\n",
       "       [ 5.97735359e-03, -1.78076055e-02,  3.52519423e-02, ...,\n",
       "        -7.05156307e-01,  3.23603484e-06,  3.02249881e-05]])"
      ]
     },
     "execution_count": 15,
     "metadata": {},
     "output_type": "execute_result"
    }
   ],
   "source": [
    "result.U"
   ]
  },
  {
   "cell_type": "code",
   "execution_count": 16,
   "id": "6f253b8c-82bc-4f1c-b90a-b6a836426a96",
   "metadata": {},
   "outputs": [
    {
     "data": {
      "text/plain": [
       "array([8.01214204e+00, 4.80102770e+00, 2.60949858e+00, 2.05697355e+00,\n",
       "       1.99995122e+00, 1.95234079e+00, 1.77151045e+00, 1.61320525e+00,\n",
       "       1.41059479e+00, 1.19763386e+00, 1.15428192e+00, 1.05716890e+00,\n",
       "       1.03339285e+00, 1.00893201e+00, 1.00190199e+00, 9.89429833e-01,\n",
       "       9.78238425e-01, 9.71602211e-01, 9.65043949e-01, 9.60612070e-01,\n",
       "       9.44034908e-01, 9.42140360e-01, 9.28484568e-01, 9.12011415e-01,\n",
       "       8.94510415e-01, 8.78583175e-01, 8.51001620e-01, 8.38797624e-01,\n",
       "       7.29769464e-01, 6.95008441e-01, 6.89996673e-01, 6.66671957e-01,\n",
       "       6.17562955e-01, 5.99041270e-01, 5.77978341e-01, 5.15509525e-01,\n",
       "       4.69353484e-01, 4.35601184e-01, 3.73708784e-01, 3.36143618e-01,\n",
       "       2.49675068e-01, 1.78993530e-01, 5.35238147e-02, 4.25699182e-02,\n",
       "       1.53131710e-02, 8.70418822e-03, 4.90741851e-03, 3.41276974e-03,\n",
       "       1.59041759e-03, 1.25440281e-04, 4.77980393e-08, 4.57667077e-08])"
      ]
     },
     "execution_count": 16,
     "metadata": {},
     "output_type": "execute_result"
    }
   ],
   "source": [
    "eigenvalues"
   ]
  },
  {
   "cell_type": "code",
   "execution_count": 17,
   "id": "cea95b38-6553-439f-89c6-85bb397629d3",
   "metadata": {},
   "outputs": [
    {
     "data": {
      "text/plain": [
       "array([ 0.15033976, -0.03549751, -0.14853372, -0.05317601, -0.00426865,\n",
       "       -0.00298932, -0.32841397, -0.04600825, -0.01281236,  0.12955364,\n",
       "        0.23815949,  0.00860801, -0.32929298,  0.02067484,  0.00832118,\n",
       "       -0.30888287,  0.00817263,  0.1335795 ,  0.07423738, -0.24798659,\n",
       "        0.09811677,  0.03958099, -0.06191733,  0.08308756, -0.19203073,\n",
       "        0.05377129,  0.17939293,  0.06961666, -0.08438927,  0.11691133,\n",
       "       -0.22200624,  0.06616919,  0.23209561,  0.10539633,  0.18915191,\n",
       "        0.10047343,  0.00904644,  0.16972143,  0.01312571,  0.02194532,\n",
       "       -0.01972001, -0.03642925, -0.14735714,  0.15040118, -0.02223652,\n",
       "       -0.28035392,  0.16354657,  0.00860824,  0.00832145,  0.0945763 ,\n",
       "       -0.06050509, -0.00597735])"
      ]
     },
     "execution_count": 17,
     "metadata": {},
     "output_type": "execute_result"
    }
   ],
   "source": [
    "eigenvectors[:, 0]"
   ]
  },
  {
   "cell_type": "code",
   "execution_count": null,
   "id": "0caa18fa-438c-4a26-961f-4c3209658dce",
   "metadata": {},
   "outputs": [],
   "source": []
  },
  {
   "cell_type": "code",
   "execution_count": 18,
   "id": "4ac62321-f762-44af-8f48-30f1529e284f",
   "metadata": {},
   "outputs": [
    {
     "name": "stdout",
     "output_type": "stream",
     "text": [
      "PCS components: 31 for 0.9 retain variance\n"
     ]
    }
   ],
   "source": [
    "# Select number of principal components (retain 90% variance)\n",
    "retain_variance = 0.9\n",
    "explained_variance_ratio = np.cumsum(eigenvalues) / np.sum(eigenvalues)\n",
    "l = np.argmax(explained_variance_ratio >= retain_variance) + 1  # Number of retained PCs\n",
    "print(f\"PCS components: {l} for {retain_variance} retain variance\")\n"
   ]
  },
  {
   "cell_type": "code",
   "execution_count": 19,
   "id": "2e1feb54-706c-4e33-86f7-7bc25dba4422",
   "metadata": {},
   "outputs": [],
   "source": [
    "# Partition Eigenvectors\n",
    "P_pc = eigenvectors[:, :l]  # Retained PCs\n",
    "P_res = eigenvectors[:, l:]  # Residual PCs"
   ]
  },
  {
   "cell_type": "code",
   "execution_count": 20,
   "id": "73fcda8a-574a-49aa-8e5f-50c38a9cfb15",
   "metadata": {},
   "outputs": [
    {
     "name": "stdout",
     "output_type": "stream",
     "text": [
      "SPE threshold J_th_SPE = 29.672565740289073\n"
     ]
    }
   ],
   "source": [
    "# Compute SPE threshold (J_th,SPE)\n",
    "theta_1 = np.sum(eigenvalues[l:])\n",
    "theta_2 = np.sum(eigenvalues[l:] ** 2)\n",
    "theta_3 = np.sum(eigenvalues[l:] ** 3)\n",
    "h0 = 1 - (2 * theta_1 * theta_3) / (3 * theta_2 ** 2)\n",
    "c_alpha = stats.norm.ppf(0.99)  # 99% confidence level\n",
    "J_th_SPE = theta_1 * (c_alpha * np.sqrt(2 * theta_2 * h0 ** 2 / theta_1) + 1 + (theta_2 * h0 * (h0 - 1)) / (theta_1 ** 2)) ** (1 / h0)\n",
    "\n",
    "print(f\"SPE threshold J_th_SPE = {J_th_SPE}\")"
   ]
  },
  {
   "cell_type": "code",
   "execution_count": 21,
   "id": "b8dc4946-6ee6-4a72-83f7-e0f809a85be2",
   "metadata": {},
   "outputs": [
    {
     "name": "stdout",
     "output_type": "stream",
     "text": [
      "T2 threshold J_th_T2 = 52.19402469957485\n"
     ]
    }
   ],
   "source": [
    "# Compute T² threshold (J_th,T2)\n",
    "F_alpha = stats.f.ppf(0.99, l, N - l)\n",
    "J_th_T2 = (l * (N**2 - 1)) / (N * (N - 1)) * F_alpha\n",
    "print(f\"T2 threshold J_th_T2 = {J_th_T2}\")"
   ]
  },
  {
   "cell_type": "code",
   "execution_count": 22,
   "id": "26282117-2fbc-4d99-9f4f-2fe4e127ff2a",
   "metadata": {},
   "outputs": [],
   "source": [
    "# Online Phase - Detect Faults\n",
    "def detect_fault(new_sample):\n",
    "    # Normalize the new sample\n",
    "    new_sample_norm = (new_sample - X_mean) / X_std\n",
    "\n",
    "    # Compute SPE\n",
    "    SPE = new_sample_norm @ P_res @ P_res.T @ new_sample_norm.T\n",
    "\n",
    "    # Compute T² statistic\n",
    "    T2 = new_sample_norm @ P_pc @ np.linalg.inv(np.diag(eigenvalues[:l])) @ P_pc.T @ new_sample_norm.T\n",
    "\n",
    "    # Fault Detection Logic\n",
    "    if SPE > J_th_SPE or T2 > J_th_T2:\n",
    "        return False\n",
    "    return True"
   ]
  },
  {
   "cell_type": "code",
   "execution_count": 23,
   "id": "0083f5e0-7bcb-4289-b096-ec6bed5057b9",
   "metadata": {},
   "outputs": [],
   "source": [
    "import pickle\n"
   ]
  },
  {
   "cell_type": "code",
   "execution_count": 24,
   "id": "3ff9d514-85a2-4f02-97e9-a82b0fded47c",
   "metadata": {},
   "outputs": [],
   "source": [
    "# save model parameters\n",
    "model_params = {\n",
    "    \"mean\": X_mean,\n",
    "    \"std\": X_std,\n",
    "    \"eigenvalues\": eigenvalues,\n",
    "    \"P_res\": P_res,\n",
    "    \"l\": l,\n",
    "    \"P_pc\": P_pc,\n",
    "    \"J_th_SPE\": J_th_SPE,\n",
    "    \"J_th_T2\": J_th_T2\n",
    "}\n",
    "with open(\"pca_predictor_params.pickle\", \"wb\") as f:\n",
    "    pickle.dump(model_params, f)"
   ]
  },
  {
   "cell_type": "code",
   "execution_count": null,
   "id": "3f53656d-eb45-4edc-b03b-f02742b259bf",
   "metadata": {},
   "outputs": [],
   "source": []
  },
  {
   "cell_type": "code",
   "execution_count": null,
   "id": "1a84fa45-e318-4a7e-96b7-9ae6623ef9f9",
   "metadata": {},
   "outputs": [],
   "source": []
  },
  {
   "cell_type": "code",
   "execution_count": null,
   "id": "40ec2269-dd65-4127-85cd-8b98b92dc1ea",
   "metadata": {},
   "outputs": [],
   "source": []
  },
  {
   "cell_type": "code",
   "execution_count": null,
   "id": "e9c9eb99-cbc2-45c6-86ba-b8ed7839f174",
   "metadata": {},
   "outputs": [],
   "source": []
  },
  {
   "cell_type": "code",
   "execution_count": null,
   "id": "df96c0ad-f226-4b9f-bd05-c8f647ceaf87",
   "metadata": {},
   "outputs": [],
   "source": []
  }
 ],
 "metadata": {
  "kernelspec": {
   "display_name": "Python 3 (ipykernel)",
   "language": "python",
   "name": "python3"
  },
  "language_info": {
   "codemirror_mode": {
    "name": "ipython",
    "version": 3
   },
   "file_extension": ".py",
   "mimetype": "text/x-python",
   "name": "python",
   "nbconvert_exporter": "python",
   "pygments_lexer": "ipython3",
   "version": "3.10.12"
  }
 },
 "nbformat": 4,
 "nbformat_minor": 5
}
