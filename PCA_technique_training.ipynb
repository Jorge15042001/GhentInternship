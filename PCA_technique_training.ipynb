{
 "cells": [
  {
   "cell_type": "code",
   "execution_count": 8,
   "id": "e1152bff-ec26-4016-88ef-5b6813931a4d",
   "metadata": {},
   "outputs": [
    {
     "name": "stdout",
     "output_type": "stream",
     "text": [
      "3.10.12\n"
     ]
    }
   ],
   "source": [
    "from platform import python_version\n",
    "\n",
    "print(python_version())"
   ]
  },
  {
   "cell_type": "code",
   "execution_count": 9,
   "id": "2b1cd5f4-182e-4645-8b87-881bc9911097",
   "metadata": {},
   "outputs": [],
   "source": [
    "import pyreadr\n",
    "import numpy as np\n",
    "import pandas as pd\n",
    "import matplotlib.pyplot as plt\n",
    "import seaborn as sns\n",
    "\n",
    "\n",
    "import numpy as np\n",
    "import scipy.stats as stats\n",
    "from sklearn.decomposition import PCA\n",
    "from scipy.linalg import eigh\n",
    "from sklearn.preprocessing import StandardScaler\n",
    "\n",
    "from fault_detection_algorithms.PCAFaultDetector import PCAFaultDetector\n",
    "from fault_detection_algorithms.PLSFaultDetector import PLSFaultDetector \n",
    "\n",
    "from fast_dataset_open import open_with_cache"
   ]
  },
  {
   "cell_type": "code",
   "execution_count": 90,
   "id": "26150ef5-8944-44c4-b08a-ddb6a407d513",
   "metadata": {},
   "outputs": [],
   "source": [
    "\n",
    "import importlib\n",
    "import fault_detection_algorithms.PCAFaultDetector\n",
    "import fault_detection_algorithms.PLSFaultDetector\n",
    "import fault_detection_algorithms.fault_detector\n",
    "\n",
    "importlib.reload(fault_detection_algorithms.PCAFaultDetector)\n",
    "importlib.reload(fault_detection_algorithms.PLSFaultDetector)\n",
    "importlib.reload(fault_detection_algorithms.fault_detector)\n",
    "\n",
    "from fault_detection_algorithms.PCAFaultDetector import PCAFaultDetector\n",
    "from fault_detection_algorithms.PLSFaultDetector import PLSFaultDetector \n",
    "from fault_detection_algorithms.fault_detector import BaseFaultDetectionAlgorithm"
   ]
  },
  {
   "cell_type": "code",
   "execution_count": 11,
   "id": "2e668489-7601-43b6-a13b-65304c1e034e",
   "metadata": {},
   "outputs": [],
   "source": [
    "# constants\n",
    "dataset_dir = \"./datasets/TEP/\""
   ]
  },
  {
   "cell_type": "code",
   "execution_count": 12,
   "id": "a2456b33-5bf2-4e20-9bc7-078ce7d52eb7",
   "metadata": {},
   "outputs": [],
   "source": [
    "X_columns= [ 'xmeas_1', 'xmeas_2', 'xmeas_3', 'xmeas_4', 'xmeas_5', 'xmeas_6', 'xmeas_7', 'xmeas_8', 'xmeas_9', 'xmeas_10', 'xmeas_11', 'xmeas_12', 'xmeas_13', 'xmeas_14', 'xmeas_15', 'xmeas_16', 'xmeas_17', 'xmeas_18', 'xmeas_19', 'xmeas_20', 'xmeas_21', 'xmeas_22', 'xmv_1', 'xmv_2', 'xmv_3', 'xmv_4', 'xmv_5', 'xmv_6', 'xmv_7', 'xmv_8', 'xmv_9', 'xmv_10', 'xmv_11']"
   ]
  },
  {
   "cell_type": "code",
   "execution_count": 13,
   "id": "c3158c36-823a-4a05-a177-d587c85c8034",
   "metadata": {},
   "outputs": [
    {
     "name": "stdout",
     "output_type": "stream",
     "text": [
      "Loading from cache: cache_data/40501dd3f9438f820d63e297020b0214.pkl\n"
     ]
    }
   ],
   "source": [
    "training_fault_free_df = open_with_cache(f\"{dataset_dir}/TEP_FaultFree_Training.RData\")"
   ]
  },
  {
   "cell_type": "code",
   "execution_count": 14,
   "id": "ba859ccb-0748-4752-a0ca-d8eb4d9eb5fe",
   "metadata": {},
   "outputs": [],
   "source": [
    "X= training_fault_free_df[X_columns].values"
   ]
  },
  {
   "cell_type": "code",
   "execution_count": 15,
   "id": "39c5ef9a-e881-4315-9ab7-a3523fd1d742",
   "metadata": {},
   "outputs": [],
   "source": [
    "Y= training_fault_free_df[\"xmeas_35\"].values"
   ]
  },
  {
   "cell_type": "code",
   "execution_count": 16,
   "id": "02201e54-e759-4916-9fac-96f82ad2befc",
   "metadata": {},
   "outputs": [
    {
     "data": {
      "text/plain": [
       "(250000,)"
      ]
     },
     "execution_count": 16,
     "metadata": {},
     "output_type": "execute_result"
    }
   ],
   "source": [
    "Y.shape"
   ]
  },
  {
   "cell_type": "code",
   "execution_count": 91,
   "id": "3f53656d-eb45-4edc-b03b-f02742b259bf",
   "metadata": {},
   "outputs": [],
   "source": [
    "fault_detector_pca = PCAFaultDetector()\n",
    "fault_detector_pca_with_resi_scale = PCAFaultDetector(scale_residuals=True)\n",
    "fault_detector_pls = PLSFaultDetector(n_components=29)"
   ]
  },
  {
   "cell_type": "code",
   "execution_count": 92,
   "id": "1a84fa45-e318-4a7e-96b7-9ae6623ef9f9",
   "metadata": {},
   "outputs": [],
   "source": [
    "fault_detector_pca.train(X)\n",
    "fault_detector_pca_with_resi_scale.train(X)\n",
    "fault_detector_pls.train(X, Y.reshape(-1,1))\n"
   ]
  },
  {
   "cell_type": "code",
   "execution_count": 93,
   "id": "40ec2269-dd65-4127-85cd-8b98b92dc1ea",
   "metadata": {},
   "outputs": [],
   "source": [
    "fault_detector_pca.save(\"models/pca_fault_detector.pickle\")\n",
    "fault_detector_pca_with_resi_scale.save(\"models/pca_fault_detector_with_resi_scale.pickle\")\n",
    "fault_detector_pls.save(\"models/pls_fault_detector.pickle\")"
   ]
  },
  {
   "cell_type": "code",
   "execution_count": 86,
   "id": "e9c9eb99-cbc2-45c6-86ba-b8ed7839f174",
   "metadata": {},
   "outputs": [
    {
     "data": {
      "text/plain": [
       "14.205727480705509"
      ]
     },
     "execution_count": 86,
     "metadata": {},
     "output_type": "execute_result"
    }
   ],
   "source": [
    "fault_detector_pca.J_th_SPE"
   ]
  },
  {
   "cell_type": "code",
   "execution_count": 88,
   "id": "38d195c8-6c1b-4be3-aef4-9d293d080a78",
   "metadata": {},
   "outputs": [
    {
     "data": {
      "text/plain": [
       "[(1.8915609680000627, 0.0),\n",
       " (5.990175424499817, 6.41889062400736),\n",
       " (6.8112903161605365, 7.268421751513869),\n",
       " (7.350435178996791, 7.847550697738826),\n",
       " (7.783696840849631, 8.304383456922906),\n",
       " (8.140394680728782, 8.68967831286697),\n",
       " (8.471442255816582, 9.027465193451105),\n",
       " (8.75649533416951, 9.331185672238485),\n",
       " (9.016177183893443, 9.609185344889493),\n",
       " (9.25792729870849, 9.867032950443075),\n",
       " (9.486430579062521, 10.108646544506811),\n",
       " (9.69672340639493, 10.33689740111278),\n",
       " (9.903011139474657, 10.553958894111366),\n",
       " (10.09621270584849, 10.761520127538255),\n",
       " (10.281468555946415, 10.960923017347769),\n",
       " (10.464450278009675, 11.153253710187432),\n",
       " (10.641762729074262, 11.33940555139636),\n",
       " (10.815865851479522, 11.520123666344746),\n",
       " (10.980116343638826, 11.696037281419688),\n",
       " (11.14238878767989, 11.867683645986304),\n",
       " (11.296953391730504, 12.035526063314904),\n",
       " (11.453374273767606, 12.199967702790344),\n",
       " (11.60970149441845, 12.36136233485639),\n",
       " (11.757130892265995, 12.520022783855048),\n",
       " (11.904896567166695, 12.676227663961864),\n",
       " (12.055451633155464, 12.830226805019295),\n",
       " (12.196931476052905, 12.982245667564166),\n",
       " (12.342339748835746, 13.13248896903906),\n",
       " (12.484645320642894, 13.281143688057977),\n",
       " (12.62493321115437, 13.428381574159154),\n",
       " (12.762261701447766, 13.574361261205185),\n",
       " (12.900016394128485, 13.719230060395137),\n",
       " (13.040772345434428, 13.863125492730768),\n",
       " (13.175218098399954, 14.006176608864722),\n",
       " (13.314755180470842, 14.148505133523804),\n",
       " (13.450178070225526, 14.290226465679627),\n",
       " (13.583824285646008, 14.431450558950216),\n",
       " (13.717819898487376, 14.57228270274683),\n",
       " (13.847633494201316, 14.712824221035854),\n",
       " (13.977930734462383, 14.853173102382172),\n",
       " (14.106541550659916, 14.993424573756789),\n",
       " (14.241261868504393, 15.133671627369258),\n",
       " (14.37853795535015, 15.27400550973188),\n",
       " (14.512942870991582, 15.41451617990752),\n",
       " (14.644077487176828, 15.55529274429397),\n",
       " (14.777673310270657, 15.696423873141363),\n",
       " (14.912677336398179, 15.837998204422627),\n",
       " (15.049748173580634, 15.980104740215854),\n",
       " (15.181649904558002, 16.12283324049076),\n",
       " (15.312012352220325, 16.266274618139096),\n",
       " (15.447690033916615, 16.410521340958258),\n",
       " (15.588024859736656, 16.555667843826196),\n",
       " (15.72361035343172, 16.70181095738603),\n",
       " (15.865972021549695, 16.84905035677103),\n",
       " (16.00630346811414, 16.99748903691742),\n",
       " (16.147967768155418, 17.1472338195861),\n",
       " (16.29273139219871, 17.298395899333357),\n",
       " (16.434606925723784, 17.451091435065216),\n",
       " (16.573293582637483, 17.60544219566998),\n",
       " (16.722332898814074, 17.76157627022215),\n",
       " (16.870780049254243, 17.919628852251854),\n",
       " (17.02350405391504, 18.079743111709952),\n",
       " (17.1716901567371, 18.242071170146822),\n",
       " (17.32559739982108, 18.406775195788846),\n",
       " (17.485428514209623, 18.57402864088742),\n",
       " (17.64424202243332, 18.744017645547654),\n",
       " (17.808228241794307, 18.916942639183933),\n",
       " (17.97518533975528, 19.093020175829878),\n",
       " (18.138861463334315, 19.27248504888544),\n",
       " (18.30571548272756, 19.45559273935101),\n",
       " (18.479636251423912, 19.642622265922835),\n",
       " (18.659742361544165, 19.83387952103668),\n",
       " (18.843379581342838, 20.029701197989272),\n",
       " (19.03334090734335, 20.23045944225005),\n",
       " (19.22830432241011, 20.436567395581537),\n",
       " (19.434831901853734, 20.648485850418275),\n",
       " (19.644169358800134, 20.866731294166048),\n",
       " (19.85651553836299, 21.091885711140772),\n",
       " (20.078658980376137, 21.3246086278225),\n",
       " (20.3063998813427, 21.5656520506673),\n",
       " (20.541757079924345, 21.815879178662147),\n",
       " (20.784259419969743, 22.076288100249016),\n",
       " (21.036229175404735, 22.34804217031186),\n",
       " (21.305570388451855, 22.63250946733021),\n",
       " (21.593044262939625, 22.93131481701096),\n",
       " (21.898145010795567, 23.246409529299328),\n",
       " (22.21449021097954, 23.580166653469607),\n",
       " (22.538468073092105, 23.935513891329823),\n",
       " (22.912437206393385, 24.316123657956513),\n",
       " (23.307925143107752, 24.72669269830607),\n",
       " (23.71752232523455, 25.173367438986947),\n",
       " (24.17431044287231, 25.664417359191393),\n",
       " (24.7039237936592, 26.211353941584147),\n",
       " (25.276620404221987, 26.830905572828666),\n",
       " (25.945845833872806, 27.54878289865527),\n",
       " (26.779965933127478, 28.407635827277733),\n",
       " (27.802995570816066, 29.48649633318977),\n",
       " (29.22171796671011, 30.96025650098449),\n",
       " (31.51153723528597, 33.375831790906595),\n",
       " (59.34079757921228, inf)]"
      ]
     },
     "execution_count": 88,
     "metadata": {},
     "output_type": "execute_result"
    }
   ],
   "source": [
    "fault_detector_pca_with_resi_scale.thresholds"
   ]
  },
  {
   "cell_type": "code",
   "execution_count": 52,
   "id": "31dfc26d-63cc-4095-859c-93fed65d9b53",
   "metadata": {},
   "outputs": [
    {
     "data": {
      "text/plain": [
       "array([[ 5.24183107e-01,  2.58854369e-02,  2.45912861e-02, ...,\n",
       "        -2.55036942e-02,  1.38578546e-02, -5.91659928e-05],\n",
       "       [ 2.58854369e-02,  6.63225724e-01,  4.92703433e-03, ...,\n",
       "         2.27732690e-02, -4.25736631e-02,  6.07704334e-03],\n",
       "       [ 2.45912861e-02,  4.92703433e-03,  3.63431659e-02, ...,\n",
       "        -2.02111704e-02,  9.37819478e-04,  2.89212081e-03],\n",
       "       ...,\n",
       "       [-2.55036942e-02,  2.27732690e-02, -2.02111704e-02, ...,\n",
       "         6.89554169e-01, -3.21430243e-02,  2.17799828e-04],\n",
       "       [ 1.38578546e-02, -4.25736631e-02,  9.37819478e-04, ...,\n",
       "        -3.21430243e-02,  5.38389110e-01, -1.42470853e-03],\n",
       "       [-5.91659928e-05,  6.07704334e-03,  2.89212081e-03, ...,\n",
       "         2.17799828e-04, -1.42470853e-03,  5.01916134e-01]])"
      ]
     },
     "execution_count": 52,
     "metadata": {},
     "output_type": "execute_result"
    }
   ],
   "source": [
    "fault_detector_pca.P_res @ fault_detector_pca.P_res.T"
   ]
  },
  {
   "cell_type": "code",
   "execution_count": 53,
   "id": "2aa6afec-8397-4966-987c-9c5195d15e1b",
   "metadata": {},
   "outputs": [],
   "source": [
    "x = X[0]\n"
   ]
  },
  {
   "cell_type": "code",
   "execution_count": 30,
   "id": "df96c0ad-f226-4b9f-bd05-c8f647ceaf87",
   "metadata": {},
   "outputs": [],
   "source": [
    "p_r = fault_detector_pca.P_res\n",
    "resi = fault_detector_pca.residual_eigenvalues"
   ]
  },
  {
   "cell_type": "code",
   "execution_count": 69,
   "id": "fb870e87-d1a5-44e7-a325-29628b6692a1",
   "metadata": {},
   "outputs": [
    {
     "data": {
      "text/plain": [
       "1060523346.6933136"
      ]
     },
     "execution_count": 69,
     "metadata": {},
     "output_type": "execute_result"
    }
   ],
   "source": [
    "(x@p_r@p_r.T@x.T)\n",
    "(x@p_r@np.linalg.inv(np.diag(resi) )@p_r.T@x.T)"
   ]
  },
  {
   "cell_type": "code",
   "execution_count": 72,
   "id": "c093ad93-edda-458d-880d-466107cce4bb",
   "metadata": {},
   "outputs": [
    {
     "data": {
      "text/plain": [
       "1060523346.693316"
      ]
     },
     "execution_count": 72,
     "metadata": {},
     "output_type": "execute_result"
    }
   ],
   "source": [
    "np.sum((x@p_r)**2/resi)"
   ]
  },
  {
   "cell_type": "code",
   "execution_count": null,
   "id": "7e09a12f-86e0-47ce-90c1-0fe7fa1683fb",
   "metadata": {},
   "outputs": [],
   "source": []
  }
 ],
 "metadata": {
  "kernelspec": {
   "display_name": "Python 3 (ipykernel)",
   "language": "python",
   "name": "python3"
  },
  "language_info": {
   "codemirror_mode": {
    "name": "ipython",
    "version": 3
   },
   "file_extension": ".py",
   "mimetype": "text/x-python",
   "name": "python",
   "nbconvert_exporter": "python",
   "pygments_lexer": "ipython3",
   "version": "3.10.12"
  }
 },
 "nbformat": 4,
 "nbformat_minor": 5
}
